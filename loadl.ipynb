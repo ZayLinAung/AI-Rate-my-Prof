{
 "cells": [
  {
   "cell_type": "code",
   "execution_count": 5,
   "metadata": {},
   "outputs": [],
   "source": [
    "from dotenv import load_dotenv\n",
    "load_dotenv()\n",
    "import os, openai\n",
    "from pinecone import Pinecone, ServerlessSpec"
   ]
  },
  {
   "cell_type": "code",
   "execution_count": 6,
   "metadata": {},
   "outputs": [],
   "source": [
    "pc = Pinecone(api_key=os.getenv(\"PINECONE_API_KEY\"))\n",
    "# Create a Pinecone index\n",
    "\n",
    "\n",
    "pc.create_index(\n",
    "    name=\"rateproff\",\n",
    "    dimension=1536, # Replace with your model dimensions\n",
    "    metric=\"cosine\", # Replace with your model metric\n",
    "    spec=ServerlessSpec(\n",
    "        cloud=\"aws\",\n",
    "        region=\"us-east-1\"\n",
    "    ) \n",
    ")"
   ]
  },
  {
   "cell_type": "code",
   "execution_count": 7,
   "metadata": {},
   "outputs": [
    {
     "data": {
      "text/plain": [
       "[{'professor': 'Dr. Jane Smith',\n",
       "  'course': 'Introduction to Computer Science',\n",
       "  'rating': 5,\n",
       "  'reviews': 'Dr. Smith is an outstanding instructor. Her lectures are clear, engaging, and she always takes time to answer questions.'},\n",
       " {'professor': 'Dr. Michael Johnson',\n",
       "  'course': 'Advanced Physics',\n",
       "  'rating': 2,\n",
       "  'reviews': \"Dr. Johnson seems knowledgeable but is terrible at explaining concepts. His exams are impossibly difficult and don't reflect the lectures.\"},\n",
       " {'professor': 'Dr. Emily Brown',\n",
       "  'course': 'Organic Chemistry',\n",
       "  'rating': 3,\n",
       "  'reviews': 'Dr. Brown knows her subject well, but can be disorganized at times. Labs are interesting but lectures can be dry.'},\n",
       " {'professor': 'Dr. David Lee',\n",
       "  'course': 'World History',\n",
       "  'rating': 1,\n",
       "  'reviews': \"Avoid Dr. Lee's class if possible. He's often unprepared, lectures are rambling, and grading seems arbitrary.\"},\n",
       " {'professor': 'Dr. Sarah Miller',\n",
       "  'course': 'Calculus II',\n",
       "  'rating': 4,\n",
       "  'reviews': 'Dr. Miller is very knowledgeable and patient. She provides great examples, though some concepts could use more explanation.'},\n",
       " {'professor': 'Prof. Robert Chen',\n",
       "  'course': 'Artificial Intelligence',\n",
       "  'rating': 5,\n",
       "  'reviews': 'Prof. Chen is at the cutting edge of AI. His course is challenging but incredibly rewarding. Great balance of theory and practical applications.'},\n",
       " {'professor': 'Dr. Lisa Taylor',\n",
       "  'course': 'Introduction to Psychology',\n",
       "  'rating': 2,\n",
       "  'reviews': \"Dr. Taylor's course is a disappointment. Lectures are boring, and the textbook does a better job explaining concepts than she does.\"},\n",
       " {'professor': 'Prof. James Wilson',\n",
       "  'course': 'Financial Accounting',\n",
       "  'rating': 3,\n",
       "  'reviews': \"Prof. Wilson knows his stuff, but his teaching style is very dry. It's hard to stay engaged during lectures.\"},\n",
       " {'professor': 'Dr. Maria Garcia',\n",
       "  'course': 'Spanish Literature',\n",
       "  'rating': 5,\n",
       "  'reviews': \"Dr. Garcia's passion for literature is infectious. She creates a welcoming classroom environment and encourages thoughtful discussion.\"},\n",
       " {'professor': 'Prof. Thomas Brown',\n",
       "  'course': 'Constitutional Law',\n",
       "  'rating': 1,\n",
       "  'reviews': 'Prof. Brown is condescending and often belittles students who ask questions. His political bias is obvious and affects grading.'},\n",
       " {'professor': 'Dr. Rachel Green',\n",
       "  'course': 'Environmental Science',\n",
       "  'rating': 4,\n",
       "  'reviews': \"Dr. Green's course is informative, but the workload is excessive. Be prepared for numerous projects and long lab reports.\"},\n",
       " {'professor': 'Prof. Kevin Nguyen',\n",
       "  'course': 'Data Structures',\n",
       "  'rating': 2,\n",
       "  'reviews': \"Prof. Nguyen's lectures are confusing and his coding examples often have errors. Office hours are unhelpful as he seems impatient.\"},\n",
       " {'professor': 'Dr. Olivia Martinez',\n",
       "  'course': 'Human Anatomy',\n",
       "  'rating': 3,\n",
       "  'reviews': \"Dr. Martinez is knowledgeable, but her exams are extremely difficult and don't always reflect the material covered in class.\"},\n",
       " {'professor': 'Prof. William Turner',\n",
       "  'course': 'Modern Art History',\n",
       "  'rating': 5,\n",
       "  'reviews': \"Prof. Turner's enthusiasm for art is contagious. His lectures are like storytelling sessions, making complex art movements accessible.\"},\n",
       " {'professor': 'Dr. Sophia Lee',\n",
       "  'course': 'Quantum Mechanics',\n",
       "  'rating': 1,\n",
       "  'reviews': \"Dr. Lee seems to actively dislike teaching. She's impatient with questions and her explanations are often more confusing than the textbook.\"},\n",
       " {'professor': 'Prof. Daniel White',\n",
       "  'course': 'Macroeconomics',\n",
       "  'rating': 3,\n",
       "  'reviews': \"Prof. White's lectures can be monotonous, but the content is solid. More real-world applications would improve the course.\"},\n",
       " {'professor': 'Dr. Emma Clark',\n",
       "  'course': 'Molecular Biology',\n",
       "  'rating': 5,\n",
       "  'reviews': 'Dr. Clark is an excellent teacher. She explains complex biological processes clearly and her lab sessions are well-organized.'},\n",
       " {'professor': 'Prof. Alexander Kim',\n",
       "  'course': 'Linear Algebra',\n",
       "  'rating': 2,\n",
       "  'reviews': \"Prof. Kim's teaching style is confusing. He jumps between topics randomly and gets frustrated when students ask for clarification.\"},\n",
       " {'professor': 'Dr. Natalie Wong',\n",
       "  'course': 'Cognitive Psychology',\n",
       "  'rating': 4,\n",
       "  'reviews': \"Dr. Wong's course is fascinating, but her grading can be harsh. Be prepared for tough essays and strict formatting requirements.\"},\n",
       " {'professor': 'Prof. Christopher Davis',\n",
       "  'course': 'International Relations',\n",
       "  'rating': 3,\n",
       "  'reviews': 'Prof. Davis knows his subject well, but tends to go off on tangents. Lectures can be interesting but often not relevant to exams.'}]"
      ]
     },
     "execution_count": 7,
     "metadata": {},
     "output_type": "execute_result"
    }
   ],
   "source": [
    "import json\n",
    "data = json.load(open(\"reviews.json\"))\n",
    "data['reviews']"
   ]
  }
 ],
 "metadata": {
  "kernelspec": {
   "display_name": "Python 3",
   "language": "python",
   "name": "python3"
  },
  "language_info": {
   "codemirror_mode": {
    "name": "ipython",
    "version": 3
   },
   "file_extension": ".py",
   "mimetype": "text/x-python",
   "name": "python",
   "nbconvert_exporter": "python",
   "pygments_lexer": "ipython3",
   "version": "3.11.5"
  }
 },
 "nbformat": 4,
 "nbformat_minor": 2
}
