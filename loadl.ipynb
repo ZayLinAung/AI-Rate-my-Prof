{
 "cells": [
  {
   "cell_type": "code",
   "execution_count": 16,
   "metadata": {},
   "outputs": [],
   "source": [
    "from dotenv import load_dotenv\n",
    "load_dotenv()\n",
    "import os, openai\n",
    "from pinecone import Pinecone, ServerlessSpec"
   ]
  },
  {
   "cell_type": "code",
   "execution_count": 22,
   "metadata": {},
   "outputs": [],
   "source": [
    "pc = Pinecone(api_key=os.getenv(\"PINECONE_API_KEY\"))\n",
    "# Create a Pinecone index\n",
    "\n",
    "\n",
    "pc.create_index(\n",
    "    name=\"rateprof\",\n",
    "    dimension=1536, # Replace with your model dimensions\n",
    "    metric=\"cosine\", # Replace with your model metric\n",
    "    spec=ServerlessSpec(\n",
    "        cloud=\"aws\",\n",
    "        region=\"us-east-1\"\n",
    "    ) \n",
    ")"
   ]
  },
  {
   "cell_type": "code",
   "execution_count": 25,
   "metadata": {},
   "outputs": [
    {
     "data": {
      "text/plain": [
       "[{'professor': 'Dr. Jane Smith',\n",
       "  'course': 'Introduction to Computer Science',\n",
       "  'rating': 5,\n",
       "  'reviews': 'Dr. Smith is an outstanding instructor. Her lectures are clear, engaging, and she always takes time to answer questions.'},\n",
       " {'professor': 'Dr. Michael Johnson',\n",
       "  'course': 'Advanced Physics',\n",
       "  'rating': 4,\n",
       "  'reviews': \"Dr. Johnson's course is challenging but rewarding. He explains complex concepts well, though sometimes moves a bit fast.\"},\n",
       " {'professor': 'Dr. Emily Brown',\n",
       "  'course': 'Organic Chemistry',\n",
       "  'rating': 3,\n",
       "  'reviews': 'Dr. Brown knows her subject well, but can be disorganized at times. Labs are interesting but lectures can be dry.'},\n",
       " {'professor': 'Dr. David Lee',\n",
       "  'course': 'World History',\n",
       "  'rating': 5,\n",
       "  'reviews': 'Dr. Lee makes history come alive! His passion for the subject is contagious and his assignments are thought-provoking.'},\n",
       " {'professor': 'Dr. Sarah Miller',\n",
       "  'course': 'Calculus II',\n",
       "  'rating': 4,\n",
       "  'reviews': 'Dr. Miller is very knowledgeable and patient. She provides great examples, though some concepts could use more explanation.'},\n",
       " {'professor': 'Prof. Robert Chen',\n",
       "  'course': 'Artificial Intelligence',\n",
       "  'rating': 5,\n",
       "  'reviews': 'Prof. Chen is at the cutting edge of AI. His course is challenging but incredibly rewarding. Great balance of theory and practical applications.'},\n",
       " {'professor': 'Dr. Lisa Taylor',\n",
       "  'course': 'Introduction to Psychology',\n",
       "  'rating': 4,\n",
       "  'reviews': \"Dr. Taylor's lectures are engaging and she brings in a lot of real-world examples. The workload can be heavy at times.\"},\n",
       " {'professor': 'Prof. James Wilson',\n",
       "  'course': 'Financial Accounting',\n",
       "  'rating': 3,\n",
       "  'reviews': \"Prof. Wilson knows his stuff, but his teaching style is very dry. It's hard to stay engaged during lectures.\"},\n",
       " {'professor': 'Dr. Maria Garcia',\n",
       "  'course': 'Spanish Literature',\n",
       "  'rating': 5,\n",
       "  'reviews': \"Dr. Garcia's passion for literature is infectious. She creates a welcoming classroom environment and encourages thoughtful discussion.\"},\n",
       " {'professor': 'Prof. Thomas Brown',\n",
       "  'course': 'Constitutional Law',\n",
       "  'rating': 4,\n",
       "  'reviews': 'Prof. Brown challenges students to think critically about complex legal issues. His exams are tough but fair.'},\n",
       " {'professor': 'Dr. Rachel Green',\n",
       "  'course': 'Environmental Science',\n",
       "  'rating': 5,\n",
       "  'reviews': \"Dr. Green's course is eye-opening. She presents current environmental issues clearly and inspires students to take action.\"},\n",
       " {'professor': 'Prof. Kevin Nguyen',\n",
       "  'course': 'Data Structures',\n",
       "  'rating': 4,\n",
       "  'reviews': 'Prof. Nguyen explains complex concepts well. The programming assignments are challenging but greatly improve your skills.'},\n",
       " {'professor': 'Dr. Olivia Martinez',\n",
       "  'course': 'Human Anatomy',\n",
       "  'rating': 3,\n",
       "  'reviews': \"Dr. Martinez is knowledgeable, but her exams are extremely difficult and don't always reflect the material covered in class.\"},\n",
       " {'professor': 'Prof. William Turner',\n",
       "  'course': 'Modern Art History',\n",
       "  'rating': 5,\n",
       "  'reviews': \"Prof. Turner's enthusiasm for art is contagious. His lectures are like storytelling sessions, making complex art movements accessible.\"},\n",
       " {'professor': 'Dr. Sophia Lee',\n",
       "  'course': 'Quantum Mechanics',\n",
       "  'rating': 4,\n",
       "  'reviews': 'Dr. Lee breaks down difficult concepts well. Her problem sets are challenging but help reinforce the material.'},\n",
       " {'professor': 'Prof. Daniel White',\n",
       "  'course': 'Macroeconomics',\n",
       "  'rating': 3,\n",
       "  'reviews': \"Prof. White's lectures can be monotonous, but the content is solid. More real-world applications would improve the course.\"},\n",
       " {'professor': 'Dr. Emma Clark',\n",
       "  'course': 'Molecular Biology',\n",
       "  'rating': 5,\n",
       "  'reviews': 'Dr. Clark is an excellent teacher. She explains complex biological processes clearly and her lab sessions are well-organized.'},\n",
       " {'professor': 'Prof. Alexander Kim',\n",
       "  'course': 'Linear Algebra',\n",
       "  'rating': 4,\n",
       "  'reviews': 'Prof. Kim is patient and thorough. He provides many examples and is always willing to help during office hours.'},\n",
       " {'professor': 'Dr. Natalie Wong',\n",
       "  'course': 'Cognitive Psychology',\n",
       "  'rating': 5,\n",
       "  'reviews': \"Dr. Wong's course is fascinating. She incorporates current research and interactive demonstrations that really help understanding.\"},\n",
       " {'professor': 'Prof. Christopher Davis',\n",
       "  'course': 'International Relations',\n",
       "  'rating': 4,\n",
       "  'reviews': 'Prof. Davis brings a wealth of real-world experience to the classroom. Discussions are lively and thought-provoking.'}]"
      ]
     },
     "execution_count": 25,
     "metadata": {},
     "output_type": "execute_result"
    }
   ],
   "source": [
    "import json\n",
    "data = json.load(open(\"reviews.json\"))\n",
    "data['reviews']"
   ]
  }
 ],
 "metadata": {
  "kernelspec": {
   "display_name": "Python 3",
   "language": "python",
   "name": "python3"
  },
  "language_info": {
   "codemirror_mode": {
    "name": "ipython",
    "version": 3
   },
   "file_extension": ".py",
   "mimetype": "text/x-python",
   "name": "python",
   "nbconvert_exporter": "python",
   "pygments_lexer": "ipython3",
   "version": "3.11.5"
  }
 },
 "nbformat": 4,
 "nbformat_minor": 2
}
